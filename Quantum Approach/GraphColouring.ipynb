{
 "cells": [
  {
   "cell_type": "code",
   "execution_count": 1,
   "id": "31ae7d2e-0432-4eee-9693-0004b32411b5",
   "metadata": {},
   "outputs": [
    {
     "name": "stderr",
     "output_type": "stream",
     "text": [
      "<frozen importlib._bootstrap>:219: RuntimeWarning: scipy._lib.messagestream.MessageStream size changed, may indicate binary incompatibility. Expected 56 from C header, got 64 from PyObject\n"
     ]
    }
   ],
   "source": [
    "import pylab\n",
    "import numpy as np\n",
    "import matplotlib.pyplot as plt\n",
    "import os\n",
    "import tempfile\n",
    "import time\n",
    "import networkx as nx\n",
    "\n",
    "from qiskit import Aer\n",
    "from qiskit.utils import QuantumInstance\n",
    "from qiskit.tools.visualization import plot_histogram\n",
    "from qiskit.algorithms import Grover, AmplificationProblem\n",
    "from qiskit.circuit.library.phase_oracle import PhaseOracle\n",
    "from qiskit.exceptions import MissingOptionalLibraryError\n",
    "\n",
    "import warnings\n",
    "warnings.filterwarnings(\"ignore\")"
   ]
  },
  {
   "cell_type": "code",
   "execution_count": 2,
   "id": "b27d38a6-679f-4e29-969e-a1ab33863296",
   "metadata": {},
   "outputs": [],
   "source": [
    "'''\n",
    "works\n",
    "graph = { \"1\" : [\"2\", \"3\"],\n",
    "          \"2\" : [\"3\", \"1\"],\n",
    "          \"3\" : [\"1\", \"2\"],\n",
    "        }\n",
    "doesnt work\n",
    "graph = { \"1\" : [\"2\"],\n",
    "          \"2\" : [\"1\", \"3\"],\n",
    "          \"3\" : [\"2\", \"4\"],\n",
    "          \"4\" : [\"3\"]\n",
    "        }\n",
    "\n",
    "graph = { \"1\" : [\"2\", \"4\"],\n",
    "          \"2\" : [\"1\", \"3\"],\n",
    "          \"3\" : [\"2\"],\n",
    "          \"4\" : [\"1\"],\n",
    "        }\n",
    "'''\n",
    "\n",
    "graph = { \"1\" : [\"2\"],\n",
    "          \"2\" : [\"1\", \"3\"],\n",
    "          \"3\" : [\"2\"],\n",
    "        }"
   ]
  },
  {
   "cell_type": "markdown",
   "id": "91447308-2428-4e6d-8bf2-b22c44c00cd2",
   "metadata": {},
   "source": [
    "So here the quantum oracles are implemented using the SAT problem (Boolean Satisfiability). CNF is Conjuctive Normal Form which is a standardised form of Boolean expresssions where logical ORs are surrounded with logical ANDs.\n",
    "- means not.\n",
    "So it sets conditions here to check if two nodes in a graph are connected then they should not have the same colour."
   ]
  },
  {
   "cell_type": "code",
   "execution_count": 3,
   "id": "3474f0d8-33a4-4eaf-922d-a136eda070e3",
   "metadata": {},
   "outputs": [
    {
     "name": "stdout",
     "output_type": "stream",
     "text": [
      "There are 12 clauses.\n",
      " Clause 1: -S1C1 -S2C1 0\n",
      " Clause 2: -S1C2 -S2C2 0\n",
      " Clause 3: -S1C3 -S2C3 0\n",
      " Clause 4: -S2C1 -S1C1 0\n",
      " Clause 5: -S2C2 -S1C2 0\n",
      " Clause 6: -S2C3 -S1C3 0\n",
      " Clause 7: -S2C1 -S3C1 0\n",
      " Clause 8: -S2C2 -S3C2 0\n",
      " Clause 9: -S2C3 -S3C3 0\n",
      " Clause 10: -S3C1 -S2C1 0\n",
      " Clause 11: -S3C2 -S2C2 0\n",
      " Clause 12: -S3C3 -S2C3 0\n"
     ]
    }
   ],
   "source": [
    "first_clause_set = []\n",
    "for i in graph:\n",
    "    for j in graph[i]:\n",
    "        for c in range(len(graph)):\n",
    "            first_clause_set.append('-S' + str(i) + 'C' + str(c+1) + ' -S' + str(j) + 'C' + str(c+1) + ' 0')\n",
    "print(f\"There are {len(first_clause_set)} clauses.\")\n",
    "for i in range(len(first_clause_set)):\n",
    "    print(f\" Clause {i+1}: {first_clause_set[i]}\")"
   ]
  },
  {
   "cell_type": "markdown",
   "id": "eee3547a-d763-4db2-802a-83211ce5a7f2",
   "metadata": {},
   "source": [
    "The second clause set ensures that each node takes only one colour."
   ]
  },
  {
   "cell_type": "code",
   "execution_count": 4,
   "id": "22de8153-2519-467b-b18a-380f638a7d5b",
   "metadata": {},
   "outputs": [
    {
     "data": {
      "text/plain": [
       "'-S1C1 -S1C2 S1C3 0'"
      ]
     },
     "execution_count": 4,
     "metadata": {},
     "output_type": "execute_result"
    }
   ],
   "source": [
    "second_clause_set = []\n",
    "for i in graph:\n",
    "    second_clause_set.append('-S' + str(i) + 'C1 -S' + str(i) + 'C2 S' + str(i) + 'C3' + ' 0')\n",
    "    second_clause_set.append('-S' + str(i) + 'C1 S' + str(i) + 'C2 -S' + str(i) + 'C3' + ' 0')\n",
    "    second_clause_set.append('S' + str(i) + 'C1 -S' + str(i) + 'C2 -S' + str(i) + 'C3' + ' 0')\n",
    "    second_clause_set.append('S' + str(i) + 'C1 S' + str(i) + 'C2 S' + str(i) + 'C3' + ' 0')\n",
    "second_clause_set[0]"
   ]
  },
  {
   "cell_type": "code",
   "execution_count": 5,
   "id": "894a985e-be17-4fbc-9f28-f64a515609c6",
   "metadata": {},
   "outputs": [
    {
     "name": "stdout",
     "output_type": "stream",
     "text": [
      "Length of two clauses of CNF: 24\n"
     ]
    }
   ],
   "source": [
    "length = len(first_clause_set) + len(second_clause_set)\n",
    "first_clause_set = '\\n'.join(first_clause_set)\n",
    "second_clause_set = '\\n'.join(second_clause_set)\n",
    "cnf = first_clause_set + '\\n' + second_clause_set\n",
    "print(f\"Length of two clauses of CNF: {length}\")\n",
    "#print(cnf.replace(\"\\n\",\" \"))"
   ]
  },
  {
   "cell_type": "code",
   "execution_count": 6,
   "id": "f6e601fc-fa08-4474-93e3-9d37a2f882e0",
   "metadata": {},
   "outputs": [],
   "source": [
    "all_node_comb = []\n",
    "\n",
    "for i in graph:\n",
    "    for j in range(len(graph)):\n",
    "        all_node_comb.append('S'+ str(i) + 'C' + str(j+1))\n",
    "#print(all_node_comb)\n",
    "all_node_comb_dict = {}\n",
    "for i, j in zip(all_node_comb, range(len(all_node_comb))):\n",
    "    all_node_comb_dict[i] = str(j + 1)\n",
    "\n",
    "#print(all_node_comb_dict)\n",
    "#print(cnf)\n",
    "\n",
    "for i in all_node_comb_dict:\n",
    "    cnf = cnf.replace(i, all_node_comb_dict[i])"
   ]
  },
  {
   "cell_type": "code",
   "execution_count": 7,
   "id": "a420e0b9-9f96-462e-b088-524097437177",
   "metadata": {},
   "outputs": [
    {
     "name": "stdout",
     "output_type": "stream",
     "text": [
      "\n",
      "c example DIMACS-CNF SAT\n",
      "p cnf 9 24\n",
      "-1 -4 0\n",
      "-2 -5 0\n",
      "-3 -6 0\n",
      "-4 -1 0\n",
      "-5 -2 0\n",
      "-6 -3 0\n",
      "-4 -7 0\n",
      "-5 -8 0\n",
      "-6 -9 0\n",
      "-7 -4 0\n",
      "-8 -5 0\n",
      "-9 -6 0\n",
      "-1 -2 3 0\n",
      "-1 2 -3 0\n",
      "1 -2 -3 0\n",
      "1 2 3 0\n",
      "-4 -5 6 0\n",
      "-4 5 -6 0\n",
      "4 -5 -6 0\n",
      "4 5 6 0\n",
      "-7 -8 9 0\n",
      "-7 8 -9 0\n",
      "7 -8 -9 0\n",
      "7 8 9 0\n"
     ]
    }
   ],
   "source": [
    "SAT_input = '''\n",
    "c example DIMACS-CNF SAT\n",
    "p cnf '''\n",
    "# this is just the header for the dimacs cnf file.\n",
    "SAT_input += str(len(all_node_comb_dict)) + ' ' + str(length) + '\\n' + cnf\n",
    "print(SAT_input)"
   ]
  },
  {
   "cell_type": "markdown",
   "id": "52881fd0-4018-4b23-9fec-10dd5f15f8dc",
   "metadata": {},
   "source": [
    "Create a phase oracle from a string which is in the dimacs format. The DIMAC CNF format is the standard format for specifying SATisfiability instances in CNF."
   ]
  },
  {
   "cell_type": "code",
   "execution_count": 8,
   "id": "c3a5c419-adef-49f0-8cd8-d14817bd5cc9",
   "metadata": {},
   "outputs": [
    {
     "name": "stdout",
     "output_type": "stream",
     "text": [
      "                                         \n",
      "q_0: ─o──o──■──■──o──o──■──■─────────────\n",
      "      │  │  │  │  │  │  │  │             \n",
      "q_1: ─o──■──o──o──■──┼──┼──┼──o──o──■──■─\n",
      "      │  │  │  │  │  │  │  │  │  │  │  │ \n",
      "q_2: ─■──┼──┼──┼──o──■──o──o──■──■──o──o─\n",
      "      │  │  │  │  │  │  │  │  │  │  │  │ \n",
      "q_3: ─■──■──o──o──■──■──o──o──o──o──o──o─\n",
      "      │  │  │  │  │  │  │  │  │  │  │  │ \n",
      "q_4: ─o──o──■──■──o──o──o──o──■──■──o──o─\n",
      "      │  │  │  │  │  │  │  │  │  │  │  │ \n",
      "q_5: ─o──o──o──o──o──o──■──■──o──o──■──■─\n",
      "      │  │  │  │  │  │  │  │  │  │  │  │ \n",
      "q_6: ─o──o──■──┼──o──o──■──┼──┼──■──■──┼─\n",
      "      │  │  │  │  │  │  │  │  │  │  │  │ \n",
      "q_7: ─■──┼──o──o──■──┼──┼──■──o──o──┼──■─\n",
      "         │     │     │  │  │  │     │  │ \n",
      "q_8: ────■─────■─────■──o──o──■─────o──o─\n",
      "                                         \n"
     ]
    }
   ],
   "source": [
    "temp_file = tempfile.NamedTemporaryFile(mode='w+t', delete=False)\n",
    "#temp_file = open(\"/tmp/temp\",\"wt\")\n",
    "temp_file.write(SAT_input)\n",
    "file_name = temp_file.name\n",
    "temp_file.close()\n",
    "oracle = None\n",
    "'''\n",
    "try:\n",
    "    oracle = PhaseOracle.from_dimacs_file(file_name)\n",
    "except MissingOptionalLibraryError as ex:\n",
    "    print(ex)\n",
    "finally:\n",
    "    os.remove(file_name)\n",
    "'''\n",
    "try:\n",
    "    oracle = PhaseOracle.from_dimacs_file(file_name)\n",
    "except Exception as e:\n",
    "    print(e)\n",
    "#oracle = SAT_input\n",
    "print(oracle)\n",
    "problem = None\n",
    "if oracle is not None:\n",
    "    problem = AmplificationProblem(oracle, is_good_state=oracle.evaluate_bitstring)"
   ]
  },
  {
   "cell_type": "markdown",
   "id": "3e465e7f-dfe0-449f-b56d-7f6cfe992a83",
   "metadata": {},
   "source": [
    "Aer is a high performance simulator for quantum circuits that includes realistic noise models."
   ]
  },
  {
   "cell_type": "code",
   "execution_count": 9,
   "id": "4c954b34-d65d-4f6f-ba83-12f689d0a3d1",
   "metadata": {},
   "outputs": [
    {
     "name": "stdout",
     "output_type": "stream",
     "text": [
      "001010001\n",
      "total time taken 7.483844518661499\n"
     ]
    }
   ],
   "source": [
    "begin = time.time()\n",
    "backend = Aer.get_backend('aer_simulator')\n",
    "quantum_instance = QuantumInstance(backend, shots=4096)\n",
    "grover = Grover(quantum_instance=quantum_instance)\n",
    "result = None\n",
    "if problem is not None:\n",
    "    result = grover.amplify(problem)\n",
    "    end = time.time()\n",
    "    print(result.assignment)\n",
    "    print(f\"total time taken {end-begin}\")"
   ]
  },
  {
   "cell_type": "code",
   "execution_count": 10,
   "id": "10d0f8e2-c118-44a5-906b-8de85cfec41c",
   "metadata": {},
   "outputs": [],
   "source": [
    "def binary_to_decimal(binary):\n",
    "     \n",
    "    binary1 = binary\n",
    "    decimal, i, n = 0, 0, 0\n",
    "    while(binary != 0):\n",
    "        dec = binary % 10\n",
    "        decimal = decimal + dec * pow(2, i)\n",
    "        binary = binary//10\n",
    "        i += 1\n",
    "    #print(decimal)\n",
    "    return decimal"
   ]
  },
  {
   "cell_type": "code",
   "execution_count": 11,
   "id": "fa953d50-4ae5-40a8-aadf-84bdf895cbf6",
   "metadata": {},
   "outputs": [
    {
     "name": "stdout",
     "output_type": "stream",
     "text": [
      "['001', '010', '001']\n",
      "['green', 'blue', 'green']\n"
     ]
    },
    {
     "data": {
      "image/png": "[encoded data removed]",
      "text/plain": [
       "<Figure size 432x288 with 1 Axes>"
      ]
     },
     "metadata": {},
     "output_type": "display_data"
    }
   ],
   "source": [
    "G = nx.Graph(graph)\n",
    "pos = nx.spring_layout(G)\n",
    "\n",
    "result_split = [str(result.assignment)[i*3: i*3+3] for i in range(int(len(str(result.assignment))/3))]\n",
    "print(result_split)\n",
    "colour = ['red', 'green', 'blue']\n",
    "colour_map = [None for i in graph]\n",
    "for i, j in zip(result_split, range(len(result_split))):\n",
    "    if binary_to_decimal(int(i))%3 == 0:\n",
    "        colour_map[j] = colour[0]\n",
    "        continue\n",
    "    elif binary_to_decimal(int(i))%3 == 1:\n",
    "        colour_map[j] = colour[1]\n",
    "        continue\n",
    "    elif binary_to_decimal(int(i))%3 == 2:\n",
    "        colour_map[j] = colour[2]\n",
    "        continue\n",
    "\n",
    "print(colour_map)\n",
    "\n",
    "nx.draw(G, pos, node_color=colour_map, with_labels=True)\n",
    "plt.show()\n"
   ]
  },
  {
   "cell_type": "code",
   "execution_count": null,
   "id": "d2739207-94af-4255-9137-a487c5f99d48",
   "metadata": {},
   "outputs": [],
   "source": []
  },
  {
   "cell_type": "code",
   "execution_count": null,
   "id": "f9684d8a-f061-4d39-82b6-c16786a48911",
   "metadata": {},
   "outputs": [],
   "source": []
  }
 ],
 "metadata": {
  "kernelspec": {
   "display_name": "Python 3 (ipykernel)",
   "language": "python",
   "name": "python3"
  },
  "language_info": {
   "codemirror_mode": {
    "name": "ipython",
    "version": 3
   },
   "file_extension": ".py",
   "mimetype": "text/x-python",
   "name": "python",
   "nbconvert_exporter": "python",
   "pygments_lexer": "ipython3",
   "version": "3.8.13"
  },
  "widgets": {
   "application/vnd.jupyter.widget-state+json": {
    "state": {},
    "version_major": 2,
    "version_minor": 0
   }
  }
 },
 "nbformat": 4,
 "nbformat_minor": 5
}
